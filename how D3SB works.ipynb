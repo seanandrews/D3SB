{
 "metadata": {
  "name": "",
  "signature": "sha256:7c8861e402175d867b201b23d73989485ab9a728b80c0eab338b8d344a0a2b9f"
 },
 "nbformat": 3,
 "nbformat_minor": 0,
 "worksheets": [
  {
   "cells": [
    {
     "cell_type": "markdown",
     "metadata": {},
     "source": [
      "In the \"concepts\" notebook, I showed that the generic discrete decomposition could be written as the linear combination:\n",
      "\n",
      "$V(\\rho) = \\sum_i V_{ring}^i = \\sum_i \\frac{w_i}{\\rho} \\left[b_i \\, J_1(2\\pi \\, b_i \\, \\rho) - a_i \\, J_1(2\\pi \\, a_i \\, \\rho) \\right]$.\n",
      "\n",
      "But for any application I can foresee, we should recognize that the rings will be contiguous, and therefore that $a_i = b_{i-1}$.  This can help us clean up the problem a bit, but its easier to understand how if we write out an example.  Let's consider three contiguous rings.  If we write out the linear combination directly, then\n",
      "\n",
      "$V(\\rho) \\, \\rho = w_0 \\left[b_0 \\, J_1(2\\pi \\, b_0 \\, \\rho) - a_0 \\, J_1(2\\pi \\, a_0 \\, \\rho) \\right] + w_1 \\left[b_1 \\, J_1(2\\pi \\, b_1 \\, \\rho) - a_1 \\, J_1(2\\pi \\, a_1 \\, \\rho) \\right] + w_2 \\left[b_2 \\, J_1(2\\pi \\, b_2 \\, \\rho) - a_2 \\, J_1(2\\pi \\, a_2 \\, \\rho) \\right]$ \n",
      "\n",
      "Now, if we assume contiguity, then $a = \\{0, b_0, b_1\\}$, so\n",
      "\n",
      "$V(\\rho) \\, \\rho = w_0 \\left[b_0 \\, J_1(2\\pi \\, b_0 \\, \\rho) - 0 \\, J_1(2\\pi \\, 0 \\, \\rho) \\right] + w_1 \\left[b_1 \\, J_1(2\\pi \\, b_1 \\, \\rho) - b_0 \\, J_1(2\\pi \\, b_0 \\, \\rho) \\right] + w_2 \\left[b_2 \\, J_1(2\\pi \\, b_2 \\, \\rho) - b_1 \\, J_1(2\\pi \\, b_1 \\, \\rho) \\right]$\n",
      "\n",
      "and we can then rearrange like terms in the bin edges $\\{b\\}$ to get\n",
      "\n",
      "$V(\\rho) \\, \\rho = \\left[-0 \\, w_0 \\, J_1(2\\pi \\, 0 \\, \\rho)\\right] + (w_0 - w_1) \\, b_0 \\, J_1(2\\pi \\, b_0 \\, \\rho) + (w_1 - w_2) \\, b_1 \\, J_1(2\\pi \\, b_1 \\, \\rho) + \\left[w_2 \\, b_2 \\, J_1(2\\pi \\, b_2 \\, \\rho)\\right]$"
     ]
    },
    {
     "cell_type": "markdown",
     "metadata": {},
     "source": [
      "Before progressing further, it helps to rewrite things a bit.  I'm just scaling through the normalizations of each ring here:\n",
      "\n",
      "$V(\\rho) \\, \\rho = \\left[-0 \\, w_0 \\, J_1(2\\pi \\, 0 \\, \\rho)\\right] + 2\\pi \\, b_0^2 \\, (w_0 - w_1) \\, \\frac{J_1(2\\pi \\, b_0 \\, \\rho)}{2\\pi \\, b_0} + 2\\pi \\, b_1^2 \\, (w_1 - w_2) \\, \\frac{J_1(2\\pi \\, b_1 \\, \\rho)}{2\\pi \\, b_1} + \\left[2\\pi \\, b_2^2 \\, w_2 \\, \\frac{J_1(2\\pi \\, b_2 \\, \\rho)}{2\\pi \\, b_2}\\right]$\n",
      "\n",
      "Then, we can divide back the $\\rho$ factor, and can define an \"argument\" term, $\\theta_i = 2\\pi \\, b_i \\, \\rho$, so that\n",
      "\n",
      "$V(\\rho) = \\left[-2\\pi \\, 0^2 \\, w_0 \\, \\frac{J_1(2\\pi \\, 0 \\, \\rho)}{2\\pi \\, 0 \\, \\rho}\\right] + 2\\pi \\, b_0^2 \\, (w_0 - w_1) \\, \\frac{J_1(\\theta_0)}{\\theta_0} + 2\\pi \\, b_1^2 \\, (w_1 - w_2) \\, \\frac{J_1(\\theta_1)}{\\theta_1} + \\left[2\\pi \\, b_2^2 \\, w_2 \\, \\frac{J_1(\\theta_2)}{\\theta_2}\\right]$\n"
     ]
    },
    {
     "cell_type": "markdown",
     "metadata": {},
     "source": [
      "Ok, so you might wonder why I left those first and last terms as I did.  Well, in general the disk does not extend all the way in to the star; there's a finite cutoff radius, $r_{in}$, inside of which there is no emission.  So, in that sense, this is like replacing $a_0 = 0$ with $a_0 = r_{in}$:\n",
      "\n",
      "$V(\\rho) = \\left[-2\\pi \\, r_{in}^2 \\, w_0 \\, \\frac{J_1(2\\pi \\, r_{in} \\, \\rho)}{2\\pi \\, r_{in} \\, \\rho}\\right] + 2\\pi \\, b_0^2 \\, (w_0 - w_1) \\, \\frac{J_1(\\theta_0)}{\\theta_0} + 2\\pi \\, b_1^2 \\, (w_1 - w_2) \\, \\frac{J_1(\\theta_1)}{\\theta_1} + \\left[2\\pi \\, b_2^2 \\, w_2 \\, \\frac{J_1(\\theta_2)}{\\theta_2}\\right]$\n",
      "\n",
      "It seems odd, but that first term can be written in a more parallel form if we associate $r_{in}$ with the outer edge of an $i = -1$ bin, so $b_{-1} = r_{in}$, which has amplitude $w_{-1} = 0$, and then\n",
      "\n",
      "$V(\\rho) = \\left[2\\pi \\, b_{-1}^2 \\, (w_{-1} - w_0) \\, \\frac{J_1(\\theta_{-1})}{\\theta_{-1}}\\right] + 2\\pi \\, b_0^2 \\, (w_0 - w_1) \\, \\frac{J_1(\\theta_0)}{\\theta_0} + 2\\pi \\, b_1^2 \\, (w_1 - w_2) \\, \\frac{J_1(\\theta_1)}{\\theta_1} + \\left[2\\pi \\, b_2^2 \\, w_2 \\, \\frac{J_1(\\theta_2)}{\\theta_2}\\right]$\n",
      "\n",
      "For bookkeeping and coding purposes, it actually makes more sense to permit this to happen in the first place.  So, we basically prepend the input vectors $b = \\{r_{in}, b\\}$ and $w = \\{0, w\\}$ and then can write\n",
      "\n",
      "$V(\\rho) = 2\\pi \\, b_{0}^2 \\, (w_{0} - w_1) \\, \\frac{J_1(\\theta_0)}{\\theta_0} + 2\\pi \\, b_1^2 \\, (w_1 - w_2) \\, \\frac{J_1(\\theta_1)}{\\theta_1} + 2\\pi \\, b_2^2 \\, (w_2 - w_3) \\, \\frac{J_1(\\theta_2)}{\\theta_2} + \\left[2\\pi \\, b_3^2 \\, w_3 \\, \\frac{J_1(\\theta_3)}{\\theta_3}\\right]$"
     ]
    },
    {
     "cell_type": "markdown",
     "metadata": {},
     "source": [
      "This may not seem much of a savings in this particular example, but in the general case this makes for only $N_{ring}/2 + 2$ calls to the Bessel function, rather than $N_{ring}$ calls in the initial case.  In generalized terms, we can set an arbitrary $w_{N+1} = 0$ (in this case $w_{N+1} = w_4 \\equiv 0$) and then write the whole function symmetrically,\n",
      "\n",
      "$V(\\rho) = \\sum_{i=0}^{N} 2\\pi \\, b_{i}^2 \\, (w_{i} - w_{i+1}) \\, \\frac{J_1(\\theta_i)}{\\theta_i}$"
     ]
    },
    {
     "cell_type": "markdown",
     "metadata": {},
     "source": [
      "The code faithfully reproduces this functionality, but with some (perhaps clunky) tricks.  The dependent variable inputs are both the ($u$, $v$) samples and the outer radii of the rings and the radius of the inner edge, both passed as tuples that are called 'uvsamples' and 'bins', respectively.  The free parameters are the amplitudes of each ring, called '$w$':"
     ]
    },
    {
     "cell_type": "code",
     "collapsed": false,
     "input": [
      "import numpy as np\n",
      "import scipy.special as sc\n",
      "\n",
      "# passed in as function arguments\n",
      "nvis = 20\n",
      "u = np.linspace(20, 500, num=nvis)\n",
      "v = np.linspace(20, 600, num=nvis)\n",
      "uvsamples = u, v\n",
      "\n",
      "nbins = 5\n",
      "b = np.linspace(0.1, 0.5, num=nbins)\n",
      "rin = 0.005\n",
      "bins = rin, b\n",
      "\n",
      "# free parameters\n",
      "w = np.exp(-b**2/0.5**2)     # as a clunky example"
     ],
     "language": "python",
     "metadata": {},
     "outputs": [],
     "prompt_number": 13
    },
    {
     "cell_type": "markdown",
     "metadata": {},
     "source": [
      "Now, inside the 'd3sb_model.py' module, we first unpack the dependent variables and compute the Fourier radii of the spatial frequency samples:"
     ]
    },
    {
     "cell_type": "code",
     "collapsed": false,
     "input": [
      "# unpack dependent variables (function arguments)\n",
      "u, v = uvsamples\n",
      "rho = np.sqrt(u**2+v**2)\n",
      "\n",
      "rin, b = bins"
     ],
     "language": "python",
     "metadata": {},
     "outputs": []
    },
    {
     "cell_type": "markdown",
     "metadata": {},
     "source": [
      "Now we prepend the inner radius into the vector of outer edges, as discussed above:"
     ]
    },
    {
     "cell_type": "code",
     "collapsed": false,
     "input": [
      "rbin = np.concatenate([np.array([rin]), b])\n",
      "print(rbin)"
     ],
     "language": "python",
     "metadata": {},
     "outputs": [
      {
       "output_type": "stream",
       "stream": "stdout",
       "text": [
        "[ 0.005  0.1    0.2    0.3    0.4    0.5  ]\n"
       ]
      }
     ],
     "prompt_number": 14
    },
    {
     "cell_type": "markdown",
     "metadata": {},
     "source": [
      "And then we manipulate the corresponding free parameter vector by padding it with zeros on both ends:"
     ]
    },
    {
     "cell_type": "code",
     "collapsed": false,
     "input": [
      "wbin = np.append(np.concatenate([np.array([0.0]), w]), 0.)\n",
      "print(wbin)"
     ],
     "language": "python",
     "metadata": {},
     "outputs": [
      {
       "output_type": "stream",
       "stream": "stdout",
       "text": [
        "[ 0.          0.96078944  0.85214379  0.69767633  0.52729242  0.36787944\n",
        "  0.        ]\n"
       ]
      }
     ],
     "prompt_number": 15
    },
    {
     "cell_type": "markdown",
     "metadata": {},
     "source": [
      "But what we want are the $differences$ between these amplitudes, $w_i - w_{i+1}$, as noted mathematically above.  This can be achieved by first shifting the $wbin$ vector entries one element left, and then subtracting that shifted vector from the original:"
     ]
    },
    {
     "cell_type": "code",
     "collapsed": false,
     "input": [
      "ww = wbin-np.roll(wbin, -1)\n",
      "print(ww)"
     ],
     "language": "python",
     "metadata": {},
     "outputs": [
      {
       "output_type": "stream",
       "stream": "stdout",
       "text": [
        "[-0.96078944  0.10864565  0.15446746  0.1703839   0.15941298  0.36787944\n",
        "  0.        ]\n"
       ]
      }
     ],
     "prompt_number": 16
    },
    {
     "cell_type": "markdown",
     "metadata": {},
     "source": [
      "Its important to note 2 things.  First, we have successfully reproduced the $w_{-1} - w_0 = -w_0$ trick we discussed above at the start of the vector.  And second, by subtracting 0 from the final entry, we have successfully set $w_{N+1} \\equiv 0$ as discussed above for the end of the vector.  Since the shift performed by the numpy \"roll\" procedure is modular, we now have an extra element at the end of the vector $ww$ that is always equal to zero.  This can then simply be tossed:"
     ]
    },
    {
     "cell_type": "code",
     "collapsed": false,
     "input": [
      "wgt = np.delete(ww, b.size+1)\n",
      "print(wgt)"
     ],
     "language": "python",
     "metadata": {},
     "outputs": [
      {
       "output_type": "stream",
       "stream": "stdout",
       "text": [
        "[-0.96078944  0.10864565  0.15446746  0.1703839   0.15941298  0.36787944]\n"
       ]
      }
     ],
     "prompt_number": 17
    },
    {
     "cell_type": "markdown",
     "metadata": {},
     "source": [
      "And we again have a vector of amplitude $differences$ that is appropriate for the $rbin$ vector.\n",
      "\n",
      "Now we compute a matrix of arguments as the outer product $\\theta = 2\\pi \\, \\vec{r} \\otimes \\vec{\\rho}$ (scaling the latter to radian units):"
     ]
    },
    {
     "cell_type": "code",
     "collapsed": false,
     "input": [
      "jarg = np.outer(2.*np.pi*rbin, rho/206264.806427)"
     ],
     "language": "python",
     "metadata": {},
     "outputs": []
    },
    {
     "cell_type": "markdown",
     "metadata": {},
     "source": [
      "So $jarg$ (or $\\theta$ in the math above) is an nbin x nvis matrix.  We can then calculate the corresponding jinc functions:"
     ]
    },
    {
     "cell_type": "code",
     "collapsed": false,
     "input": [
      "jinc = sc.jn(1, jarg)/jarg"
     ],
     "language": "python",
     "metadata": {},
     "outputs": []
    },
    {
     "cell_type": "markdown",
     "metadata": {},
     "source": [
      "And then scale by the amplitude normalizations and sum over all the rings with a dot product:"
     ]
    },
    {
     "cell_type": "code",
     "collapsed": false,
     "input": [
      "vis = np.dot(2.*np.pi*rbin**2*wgt, jinc)"
     ],
     "language": "python",
     "metadata": {},
     "outputs": []
    }
   ],
   "metadata": {}
  }
 ]
}