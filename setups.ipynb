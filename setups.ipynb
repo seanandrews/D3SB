{
 "metadata": {
  "name": "",
  "signature": "sha256:97bb19e311c2a505758a4a071f19e6b484d93932ff8961501b2b900c84702ca5"
 },
 "nbformat": 3,
 "nbformat_minor": 0,
 "worksheets": [
  {
   "cells": [
    {
     "cell_type": "heading",
     "level": 1,
     "metadata": {},
     "source": [
      "Practical Set-up for Realistic Problems"
     ]
    },
    {
     "cell_type": "markdown",
     "metadata": {},
     "source": [
      "First we need a module that reads in a visibility dataset.  This can be done from the .FITS format relatively simply, as follows:"
     ]
    },
    {
     "cell_type": "code",
     "collapsed": false,
     "input": [
      "import numpy as np\n",
      "import matplotlib.pyplot as plt\n",
      "from astropy.io import fits\n",
      "import scipy.special as sc\n",
      "%matplotlib inline\n",
      "\n",
      "def get_vis(datafile):\n",
      "\n",
      "    # simple tool for extracting visibility data from a fits file\n",
      "    \n",
      "    dvis = fits.open(datafile)\n",
      "    dreal = np.squeeze(dvis[0].data['Data'])[:,0]\n",
      "    dimag = np.squeeze(dvis[0].data['Data'])[:,1]\n",
      "    dwgt = np.squeeze(dvis[0].data['Data'])[:,2]\n",
      "    u = 230.538e9*1e-3*dvis[0].data.par(0)[:]\n",
      "    v = 230.538e9*1e-3*dvis[0].data.par(1)[:]\n",
      "    dvis.close()\n",
      "    data = u, v, dreal, dimag, dwgt\n",
      "\n",
      "    return data\n",
      "\n",
      "\n",
      "# extract the visibility data\n",
      "data = get_vis('model.vis.fits')\n",
      "u, v, dreal, dimag, dwgt = data"
     ],
     "language": "python",
     "metadata": {},
     "outputs": [],
     "prompt_number": 7
    },
    {
     "cell_type": "markdown",
     "metadata": {},
     "source": [
      "Now we can define a module that calculates the discrete-sampled visibilities:"
     ]
    },
    {
     "cell_type": "code",
     "collapsed": false,
     "input": [
      "def d3sb_fast(theta, uvsamples, bins):\n",
      "        \n",
      "    u, v = uvsamples\n",
      "    rho = 1e3*np.sqrt(u**2+v**2)\n",
      "\n",
      "    rin, b = bins\n",
      "    w = theta\n",
      "    \n",
      "    # pad ring-set parameters appropriately\n",
      "    rbin = np.concatenate([np.array([rin]), b])\n",
      "    wbin = np.append(np.concatenate([np.array([0.0]), w]), 0.)\n",
      "    ww = wbin-np.roll(wbin, -1)\n",
      "    wgt = np.delete(ww, b.size+1)\n",
      "\n",
      "    # sequence-of-jincs matrix\n",
      "    jarg = np.outer(2.*np.pi*rbin, rho/206264.806427)\n",
      "    jinc = sc.jn(1, jarg)/jarg\n",
      "\n",
      "    vis = np.dot(2.*np.pi*rbin**2*wgt, jinc)\n",
      "    return vis"
     ],
     "language": "python",
     "metadata": {},
     "outputs": [],
     "prompt_number": 23
    },
    {
     "cell_type": "markdown",
     "metadata": {},
     "source": []
    },
    {
     "cell_type": "code",
     "collapsed": false,
     "input": [
      "rho = 1e3*np.sqrt(u**2+v**2)\n",
      "\n",
      "# make a continuous Gaussian intensity profile\n",
      "nr = 401\n",
      "r = 0.025*np.arange(nr)\n",
      "sig = 0.1\n",
      "Inu = np.exp(-0.5*r**2/sig**2)\n",
      "\n",
      "# assign radial bins\n",
      "nbins = 25\n",
      "dr = 0.05\n",
      "b = dr+dr*np.arange(nbins)\n",
      "a = b-dr\n",
      "\n",
      "# assign weights\n",
      "w = np.exp(-0.5*((0.5*(b+b-dr))/sig)**2)\n",
      "\n",
      "# make a discretized version\n",
      "Irings = np.zeros_like(r)\n",
      "for i in range(nbins):\n",
      "    Irings[(r >= a[i]) & (r <= b[i])] = w[i]\n",
      "    \n",
      "# analytic (continuous) FT\n",
      "%time Vana = 2*np.pi*sig**2*np.exp(-2*(np.pi*rho*sig/206264.806427)**2)\n",
      "nrho = rho.size\n",
      "\n",
      "# fast version of exact numerical solution\n",
      "rin = 0.0001\n",
      "uvsamples = u, v\n",
      "bins = rin, b\n",
      "%time Vdis = d3sb_fast(w, uvsamples, bins)"
     ],
     "language": "python",
     "metadata": {},
     "outputs": [
      {
       "output_type": "stream",
       "stream": "stdout",
       "text": [
        "CPU times: user 810 \u00b5s, sys: 13 \u00b5s, total: 823 \u00b5s\n",
        "Wall time: 830 \u00b5s\n",
        "CPU times: user 1.1 s, sys: 8.55 ms, total: 1.11 s"
       ]
      },
      {
       "output_type": "stream",
       "stream": "stdout",
       "text": [
        "\n",
        "Wall time: 1.15 s\n"
       ]
      }
     ],
     "prompt_number": 30
    },
    {
     "cell_type": "code",
     "collapsed": false,
     "input": [
      "# plot the intensity profile and its FT\n",
      "fig, ax = plt.subplots(1, 2, figsize=(12, 4))\n",
      "ax[0].axis([0, 6, -0.1*np.amax(Inu), 1.1*np.amax(Inu)])\n",
      "ax[0].plot(r, Irings, '-', r, np.zeros(nr), r, Inu, '--')\n",
      "ax[0].set_xlabel('angle [arcsec]')\n",
      "ax[0].set_ylabel('intensity [Jy/arcsec2]')\n",
      "ax[1].axis([0, 500, np.amin(Vana)-0.1*np.amax(Vana), 1.1*np.amax(Vana)])\n",
      "ax[1].plot(rho*1e-3, Vdis, '.', rho*1e-3, np.zeros(nrho), rho*1e-3, Vana, '.')\n",
      "ax[1].set_xlabel('angular frequency [klambda]')\n",
      "ax[1].set_ylabel('real flux [Jy]')    "
     ],
     "language": "python",
     "metadata": {},
     "outputs": [
      {
       "metadata": {},
       "output_type": "pyout",
       "prompt_number": 31,
       "text": [
        "<matplotlib.text.Text at 0x10c5bf090>"
       ]
      },
      {
       "metadata": {},
       "output_type": "display_data",
       "png": "[encoded data removed]",
       "text": [
        "<matplotlib.figure.Figure at 0x10b40b250>"
       ]
      }
     ],
     "prompt_number": 31
    },
    {
     "cell_type": "code",
     "collapsed": false,
     "input": [
      "print(25000*1.1/3600.)"
     ],
     "language": "python",
     "metadata": {},
     "outputs": [
      {
       "output_type": "stream",
       "stream": "stdout",
       "text": [
        "7.63888888889\n"
       ]
      }
     ],
     "prompt_number": 32
    },
    {
     "cell_type": "code",
     "collapsed": false,
     "input": [],
     "language": "python",
     "metadata": {},
     "outputs": []
    }
   ],
   "metadata": {}
  }
 ]
}