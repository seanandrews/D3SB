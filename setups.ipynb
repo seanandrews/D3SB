{
 "metadata": {
  "name": "",
  "signature": "sha256:24488ade09c371f5ac51a9345ee0931a6b42756523ba7425946b2e69d8f4350a"
 },
 "nbformat": 3,
 "nbformat_minor": 0,
 "worksheets": [
  {
   "cells": [
    {
     "cell_type": "heading",
     "level": 1,
     "metadata": {},
     "source": [
      "Practical Set-up for Realistic Problems"
     ]
    },
    {
     "cell_type": "markdown",
     "metadata": {},
     "source": [
      "First we need a module that reads in a visibility dataset.  This can be done from the .FITS format relatively simply, as follows:"
     ]
    },
    {
     "cell_type": "code",
     "collapsed": false,
     "input": [
      "import numpy as np\n",
      "import matplotlib.pyplot as plt\n",
      "from astropy.io import fits\n",
      "import scipy.special as sc\n",
      "%matplotlib inline\n",
      "\n",
      "def get_vis(datafile):\n",
      "\n",
      "    # simple tool for extracting visibility data from a fits file\n",
      "    \n",
      "    dvis = fits.open(datafile)\n",
      "    dreal = np.squeeze(dvis[0].data['Data'])[:,0]\n",
      "    dimag = np.squeeze(dvis[0].data['Data'])[:,1]\n",
      "    dwgt = np.squeeze(dvis[0].data['Data'])[:,2]\n",
      "    u = 230.538e9*1e-3*dvis[0].data.par(0)[:]\n",
      "    v = 230.538e9*1e-3*dvis[0].data.par(1)[:]\n",
      "    dvis.close()\n",
      "    data = u, v, dreal, dimag, dwgt\n",
      "\n",
      "    return data\n",
      "\n",
      "\n",
      "# extract the visibility data\n",
      "data = get_vis('model.vis.fits')\n",
      "u, v, dreal, dimag, dwgt = data"
     ],
     "language": "python",
     "metadata": {},
     "outputs": [],
     "prompt_number": 7
    },
    {
     "cell_type": "markdown",
     "metadata": {},
     "source": [
      "Now we can define a module that calculates the discrete-sampled visibilities:"
     ]
    },
    {
     "cell_type": "code",
     "collapsed": false,
     "input": [
      "def d3sb_fast(theta, uvsamples, bins):\n",
      "        \n",
      "    u, v = uvsamples\n",
      "    rho = 1e3*np.sqrt(u**2+v**2)\n",
      "\n",
      "    rin, b = bins\n",
      "    w = theta\n",
      "    \n",
      "    # pad ring-set parameters appropriately\n",
      "    rbin = np.concatenate([np.array([rin]), b])\n",
      "    wbin = np.append(np.concatenate([np.array([0.0]), w]), 0.)\n",
      "    ww = wbin-np.roll(wbin, -1)\n",
      "    wgt = np.delete(ww, b.size+1)\n",
      "\n",
      "    # sequence-of-jincs matrix\n",
      "    jarg = np.outer(2.*np.pi*rbin, rho/206264.806427)\n",
      "    jinc = sc.jn(1, jarg)/jarg\n",
      "\n",
      "    vis = np.dot(2.*np.pi*rbin**2*wgt, jinc)\n",
      "    return vis"
     ],
     "language": "python",
     "metadata": {},
     "outputs": [],
     "prompt_number": 23
    },
    {
     "cell_type": "markdown",
     "metadata": {},
     "source": []
    },
    {
     "cell_type": "code",
     "collapsed": false,
     "input": [
      "rho = 1e3*np.sqrt(u**2+v**2)\n",
      "\n",
      "# make a continuous Gaussian intensity profile\n",
      "nr = 401\n",
      "r = 0.025*np.arange(nr)\n",
      "sig = 1.1\n",
      "Inu = np.exp(-0.5*r**2/sig**2)\n",
      "\n",
      "# assign radial bins\n",
      "nbins = 25\n",
      "dr = 0.15\n",
      "b = dr+dr*np.arange(nbins)\n",
      "a = b-dr\n",
      "\n",
      "# assign weights\n",
      "w = np.exp(-0.5*((0.5*(b+b-dr))/sig)**2)\n",
      "\n",
      "# make a discretized version\n",
      "Irings = np.zeros_like(r)\n",
      "for i in range(nbins):\n",
      "    Irings[(r >= a[i]) & (r <= b[i])] = w[i]\n",
      "    \n",
      "# analytic (continuous) FT\n",
      "%time Vana = 2*np.pi*sig**2*np.exp(-2*(np.pi*rho*sig/206264.806427)**2)\n",
      "nrho = rho.size\n",
      "\n",
      "# fast version of exact numerical solution\n",
      "rin = 0.0001\n",
      "uvsamples = u, v\n",
      "bins = rin, b\n",
      "%time Vdis = d3sb_fast(w, uvsamples, bins)"
     ],
     "language": "python",
     "metadata": {},
     "outputs": [
      {
       "output_type": "stream",
       "stream": "stdout",
       "text": [
        "CPU times: user 1.36 ms, sys: 12 \u00b5s, total: 1.37 ms\n",
        "Wall time: 1.38 ms\n",
        "CPU times: user 1.48 s, sys: 14.8 ms, total: 1.5 s"
       ]
      },
      {
       "output_type": "stream",
       "stream": "stdout",
       "text": [
        "\n",
        "Wall time: 1.58 s\n"
       ]
      }
     ],
     "prompt_number": 39
    },
    {
     "cell_type": "code",
     "collapsed": false,
     "input": [
      "# plot the intensity profile and its FT\n",
      "fig, ax = plt.subplots(1, 2, figsize=(12, 4))\n",
      "ax[0].axis([0, 6, -0.1*np.amax(Inu), 1.1*np.amax(Inu)])\n",
      "ax[0].plot(r, Irings, '-', r, np.zeros(nr), r, Inu, '--')\n",
      "ax[0].set_xlabel('angle [arcsec]')\n",
      "ax[0].set_ylabel('intensity [Jy/arcsec2]')\n",
      "ax[1].axis([0, 500, np.amin(Vana)-0.1*np.amax(Vana), 1.1*np.amax(Vana)])\n",
      "ax[1].plot(rho*1e-3, Vdis, '.', rho*1e-3, np.zeros(nrho), rho*1e-3, Vana, '.')\n",
      "ax[1].set_xlabel('angular frequency [klambda]')\n",
      "ax[1].set_ylabel('real flux [Jy]')    "
     ],
     "language": "python",
     "metadata": {},
     "outputs": [
      {
       "metadata": {},
       "output_type": "pyout",
       "prompt_number": 40,
       "text": [
        "<matplotlib.text.Text at 0x10d3534d0>"
       ]
      },
      {
       "metadata": {},
       "output_type": "display_data",
       "png": "[encoded data removed]",
       "text": [
        "<matplotlib.figure.Figure at 0x10ccedfd0>"
       ]
      }
     ],
     "prompt_number": 40
    },
    {
     "cell_type": "markdown",
     "metadata": {},
     "source": [
      "Try and get this running inside a likelihood function:"
     ]
    },
    {
     "cell_type": "code",
     "collapsed": false,
     "input": [
      "def lnprob(theta, data, bins):\n",
      "    \n",
      "    u, v, dreal, dimag, dwgt = data\n",
      "    uvsamples = u, v\n",
      "    \n",
      "    mreal = d3sb_fast(theta, uvsamples, bins)\n",
      "    mimag = np.zeros_like(u)\n",
      "    \n",
      "    chi2 = np.sum(dwgt*(dreal-mreal)**2) + np.sum(dwgt*(dimag-mimag)**2)\n",
      "    lnp = -0.5*chi2\n",
      "    \n",
      "    return lnp\n",
      "\n",
      "\n",
      "%time lnp = lnprob(w, data, bins)\n",
      "print(lnp)"
     ],
     "language": "python",
     "metadata": {},
     "outputs": [
      {
       "output_type": "stream",
       "stream": "stdout",
       "text": [
        "CPU times: user 1.53 s, sys: 20.6 ms, total: 1.55 s\n",
        "Wall time: 1.61 s\n",
        "-642924.887357\n"
       ]
      }
     ],
     "prompt_number": 41
    },
    {
     "cell_type": "markdown",
     "metadata": {},
     "source": [
      "Now try and get this going in the emcee setup:"
     ]
    },
    {
     "cell_type": "code",
     "collapsed": false,
     "input": [
      "import emcee\n",
      "\n",
      "ndim, nwalkers = nbins, 100\n",
      "\n",
      "p0 = np.array(w)\n",
      "p0 = [np.random.rand(ndim)*0.1*p0 + p0 for i in range(nwalkers)]\n",
      "\n",
      "sampler = emcee.EnsembleSampler(nwalkers, ndim, lnprob, args=[data, bins])\n",
      "\n",
      "%time sampler.run_mcmc(p0, 5)"
     ],
     "language": "python",
     "metadata": {},
     "outputs": [
      {
       "output_type": "stream",
       "stream": "stdout",
       "text": [
        "CPU times: user 19min 34s, sys: 11.1 s, total: 19min 45s\n",
        "Wall time: 20min 10s\n"
       ]
      },
      {
       "metadata": {},
       "output_type": "pyout",
       "prompt_number": 44,
       "text": [
        "(array([[ 0.98968473,  1.34680229,  0.64736684, ...,  0.00892169,\n",
        "          0.00613566,  0.00332889],\n",
        "        [ 1.03745284,  1.07261259,  0.95704637, ...,  0.00928703,\n",
        "          0.00626958,  0.00393649],\n",
        "        [ 1.07267797,  0.99601751,  0.93124992, ...,  0.00965033,\n",
        "          0.00594747,  0.00374891],\n",
        "        ..., \n",
        "        [ 1.02770125,  1.03967107,  0.97077444, ...,  0.00955495,\n",
        "          0.00598022,  0.0042002 ],\n",
        "        [ 1.05057074,  1.04408939,  1.03482012, ...,  0.00938849,\n",
        "          0.00617322,  0.00387439],\n",
        "        [ 1.00293571,  0.96425561,  0.895776  , ...,  0.00891004,\n",
        "          0.00619414,  0.00391004]]),\n",
        " array([-608556.63479041, -692158.320468  , -699941.88547464,\n",
        "        -713402.45189632, -725558.73832186, -697883.43886835,\n",
        "        -693772.99978982, -647795.15360845, -725811.68068217,\n",
        "        -719270.18927035, -724235.87235533, -647720.63670339,\n",
        "        -711612.54843879, -713979.35959751, -703605.11009573,\n",
        "        -700211.97797115, -633691.89456609, -704999.58014153,\n",
        "        -714798.35762826, -663418.40240621, -717491.18852629,\n",
        "        -716985.7955062 , -715738.78498055, -728649.5370412 ,\n",
        "        -698872.56297502, -666925.59534871, -698313.47283295,\n",
        "        -696044.1930788 , -693983.01884975, -730641.21094337,\n",
        "        -696846.41417883, -724570.79714957, -715479.63796212,\n",
        "        -710150.20073809, -690891.23296554, -712988.49194667,\n",
        "        -721909.736915  , -703747.13147289, -685701.17172801,\n",
        "        -730154.45019471, -720447.88377085, -679677.90312291,\n",
        "        -702202.02318369, -696503.05337683, -706629.01831829,\n",
        "        -684351.14123808, -717995.23578897, -708337.62074744,\n",
        "        -688934.31398625, -705195.88169791, -634661.71328208,\n",
        "        -671756.86119794, -671181.91944625, -690701.75851926,\n",
        "        -696153.5191338 , -682749.02011037, -694468.79858327,\n",
        "        -702363.39653665, -679039.8590756 , -629190.51481937,\n",
        "        -731206.66282658, -712778.9922445 , -716755.58238132,\n",
        "        -704245.64957857, -653814.19800707, -689095.25092687,\n",
        "        -709057.53965742, -660996.08201621, -689287.86384983,\n",
        "        -698780.51689032, -693931.91311721, -712372.81916379,\n",
        "        -703904.28009253, -677639.43802088, -703503.29136923,\n",
        "        -719303.1494018 , -697002.91174193, -718751.50214288,\n",
        "        -668463.70594804, -708083.89807318, -726386.96498548,\n",
        "        -692335.20609853, -634465.62243808, -720707.43982165,\n",
        "        -700324.44841475, -684233.80152974, -705674.18394124,\n",
        "        -692578.14170094, -633175.30843368, -704509.81447331,\n",
        "        -712476.58370373, -707571.34137824, -731680.3257323 ,\n",
        "        -709640.79766727, -686007.99269282, -710421.08397008,\n",
        "        -699919.85901734, -707289.09097786, -707636.07562965,\n",
        "        -661653.47234343]),\n",
        " ('MT19937', array([3618245096,  751699611, 1682567119,  905793054, 4087002993,\n",
        "          221075333, 1748682902, 2916534719, 3578292410, 2621782242,\n",
        "          941785970, 1612865287, 4091797367, 1187289518, 3232979377,\n",
        "         1950296335, 2818258417, 3642012798, 2716740019, 2501508763,\n",
        "         1183280395, 3373152216,  498959560, 4245016412, 1097691777,\n",
        "         1842611446, 1984417427, 2257928294, 2965520081, 1798360122,\n",
        "           66389498,  612345783,  110632911, 3875515529, 3437839106,\n",
        "          962949899, 3617531957,  469201612, 3915320384, 4284669343,\n",
        "         2135799780, 3157630358, 1217769414, 2225987452,  987487290,\n",
        "         1984317865,  563862333, 3610372257, 4010131730, 1198819244,\n",
        "         1513404756,  618932007, 3087310521, 2112075528, 3384000247,\n",
        "         3226861567, 3950608257,  776689188, 1784703045, 1455034142,\n",
        "         3509747136, 4084962094, 3590191984,  431725052, 1715028084,\n",
        "         3582416258, 2394519248,  290573911, 1787208492, 3076154553,\n",
        "         1557811901, 3275857299, 4117698150, 3959474353, 1846364047,\n",
        "          516830656,  988031237, 2164328238, 3218767270, 2141534774,\n",
        "         2248177422, 1634461768, 2351033162, 1812389522, 1439301579,\n",
        "          819686268, 3313106194, 1533779835,   72492138,  531558051,\n",
        "         1764893748, 2328708496, 4101207976, 3156989613, 4177923355,\n",
        "         2517235375, 3743255490, 2644453189, 3898986210, 1603036215,\n",
        "          315657093, 3505249863,  201115767, 3172585821, 3795395200,\n",
        "         2030144792, 4003178797,  240747379,  143473980, 3816917262,\n",
        "         2342146684, 1070532181, 2805201572, 2327192740, 2078538882,\n",
        "         3900152670, 1678447242, 3090819076,  175428400,   24175722,\n",
        "         2571753473, 3632861065, 2964545201,  810557547, 4285943398,\n",
        "         1567646690,   90459017, 3507418069,  102473032, 1142673623,\n",
        "          202114683, 3461100407, 3311398371,  563042843, 3264572975,\n",
        "         3055813201, 2244190513, 2653986447, 4208324266, 2912376204,\n",
        "         4206786781,   54917338, 3589039350,  407356286,  757259858,\n",
        "         1578349823, 4234453698, 2818520874, 1551301997, 4208379026,\n",
        "         3561482687, 1671165711,  393479325,  898366563,  549589135,\n",
        "         2230499367, 4237729263, 3994058666,  881971715, 2516694402,\n",
        "         4142163943, 3741215188, 2661996016, 3813687928, 3723368876,\n",
        "         4093944965, 1726640729, 1093510839, 2664568838, 2318438629,\n",
        "          134822190, 2204598304,  567366893, 1768654908, 2707040627,\n",
        "         2376862788,  426683782, 3601409484,   96898384, 3096353574,\n",
        "         2441258735, 2662212868, 1223289133, 2994145102, 2503255029,\n",
        "         3954073514, 1208590103, 2502503290, 1624316313,  776318696,\n",
        "         2532740821,  797994797, 2104523298, 2212226044, 3500258137,\n",
        "         2039395093, 1239946854, 4103832116, 3513687132, 2648160753,\n",
        "         2303671825, 1865803114, 2221620227,  959887676, 1832936684,\n",
        "         2256981441,  685579874,  300453730, 1398877920, 1081544072,\n",
        "         1428524516,  368837444, 2051403944, 1461445416, 4141043786,\n",
        "          391836382, 3933781458,  483421390, 1736939955,   14594284,\n",
        "          919813399,   61688142,  475424862, 4284335528, 4235530815,\n",
        "         4143911847, 3913433231, 1259212277, 2227683581, 4288776507,\n",
        "         2728886129, 1161578512,  201481308, 1862082682, 3620726239,\n",
        "         1807634410,  767047136, 3356431636, 1977930888, 3313652821,\n",
        "         4034676090, 1668552319,  414055520, 3742099579, 2629818933,\n",
        "          624182075,  959656347, 1744394748,   53528400, 1051760111,\n",
        "         3655871230,  640984266, 2519699889, 1757350213, 3189106080,\n",
        "          297257904, 1964523501, 1781789506,   37337700, 2708485495,\n",
        "          765518642, 1936387919, 4020073203, 1055595822, 3628818632,\n",
        "         1473977279, 4194839616, 1167532182, 2924847615, 3946002758,\n",
        "         2241100807, 1964520059, 2258514435, 1815030101, 4044228931,\n",
        "          251745746,  763191001, 1904348814, 2609586701, 4266663211,\n",
        "         1461943623, 4010464077,   85228996, 3769791378,  650018962,\n",
        "         3561076562,  412517535, 3218154525, 3458856144, 3253875103,\n",
        "         1399289775, 2348124861,  213175124,  923127271, 3007652796,\n",
        "         3010517287, 3397401741,  704636407, 3083793577, 1154040107,\n",
        "          672055265, 3977995505, 1440706237, 3526906980, 4216779900,\n",
        "         3461936983, 3393587124, 2523715089, 2112943246, 3578164838,\n",
        "         2184250344, 2684391161, 2338146878, 3030923468, 3118671980,\n",
        "          764569065, 2275473714, 4063830825, 2576345153, 2219959337,\n",
        "         3705629738, 4250943659, 3631990284, 1534117612, 2031082784,\n",
        "         3391324498, 2151265662, 3163278962, 3151085933, 1036987260,\n",
        "         1969270801,  409430810, 2135137977, 1563337006, 3221976937,\n",
        "         4025090926, 1492885566, 1165463297, 3601471833, 3191094782,\n",
        "         1253606379,  553156953, 3343636288, 1269466244, 2130151766,\n",
        "         2625896799,  444833718, 4100822637,  644569947, 3221689759,\n",
        "         1799611864, 2883862718, 4213569881, 2457168010, 2466474446,\n",
        "         3514912814, 4075478777, 3751458884, 2756795453, 2234264216,\n",
        "         3035886759, 2364481222, 3061750812, 4211643215, 1297283421,\n",
        "         4183461504, 2641064625,  337339273,  195708234, 1561180355,\n",
        "           29282480, 2992390586, 3408579818, 2730000354, 2124110048,\n",
        "         4056374920, 2019279334, 3856514897, 3494292506, 1790592987,\n",
        "         1772886032,  939872223, 3372560950, 1362162884, 2753104717,\n",
        "         2555414979, 3465727691,  731448747,  394631862, 3217869668,\n",
        "          990490823, 2057585329, 3952749491, 1252379292, 1443817924,\n",
        "         3683465245, 3112041233, 2573942799, 1859868764, 2438793308,\n",
        "         3203810543, 2815263843,  446952446, 2899176094,   33915958,\n",
        "         2309052377, 4142413034,   76803928, 3346348309, 2759684066,\n",
        "         2375038065, 3042518933, 3344103806, 3852667516, 1417314103,\n",
        "         3824952718, 1518153023, 2533104615, 2212900510, 1637756185,\n",
        "         2616443436, 4022660896, 1921957774,   79144589, 3566717308,\n",
        "         2147313905,  401475134, 2055891792, 3005361171, 2657139528,\n",
        "          975897500, 2130188931, 3844394913, 3559277227, 2260668955,\n",
        "          347606959, 3975978492,  912759785, 3470477483, 3559209777,\n",
        "         1674027688,  506982407, 2777866831,  741449159, 1208626022,\n",
        "         1716729632, 1164064799, 2982874859, 3797905770, 2573843083,\n",
        "         3034722155, 3740164856,  141312977, 3050192480, 2209254179,\n",
        "         3978542661, 1829759357, 4247872363,  374259348,  524463592,\n",
        "         2763813547,  510053508,  545416355, 1221804855, 3584119628,\n",
        "         2017646707, 2680927486, 1900136849, 2334317943,  522149134,\n",
        "          906270686, 1131814439, 3973247019, 1819448319, 1801305263,\n",
        "         2593995154, 1795498302, 3000355463, 2651155345, 2593416878,\n",
        "         1045510753, 2827992012,    5147628,    6348110, 2600159314,\n",
        "          329741284,  859849261, 1440171264, 4040274442, 1942567038,\n",
        "           51624130, 4268015693, 2296104318,  273269062,  146313470,\n",
        "         3235815345, 2039463063,  524034394, 1948313097, 2154376991,\n",
        "         1024090958, 1117112700, 3956640682, 3867186727, 1349089312,\n",
        "         1084419640,  580835827, 2411536103, 1247940571, 1706855868,\n",
        "          615375176, 3919657823, 2887835116, 3270662614, 3775394543,\n",
        "          663945808, 1546581477,  945655848, 4232956008, 1230057728,\n",
        "         2936829879,  597303654, 2229265917, 1523406601,  654307957,\n",
        "         4239096132, 3926552845, 3802570188,  754182879, 3412867644,\n",
        "          572981027, 1576362454,  361152235, 1960590227,  884816407,\n",
        "         3830960805, 3626494066, 1950017356, 2614549680, 4037474585,\n",
        "         4284575365, 1353659867, 2239346464, 3293086485, 2978657980,\n",
        "          646540485, 3822107292, 2439422454,  616601282,  667453902,\n",
        "         2567322495,  370333490, 1354195983, 1904571370,  456665104,\n",
        "         2421133271, 1119796114, 2056587573, 3040383163,  306978511,\n",
        "         1780062988,  372248179,  551890070, 4147560195, 3478965569,\n",
        "          993575416,  120860374, 1870329018,  285115932, 1795608554,\n",
        "         2226363859, 2271989233, 3469203495, 3863777027, 3262643536,\n",
        "         3884753674, 1482647498, 2606629891, 3204244724, 3596023775,\n",
        "         3576174638,  141170031, 1033171809, 2052725224, 2363852312,\n",
        "         3598301413, 3166440269, 3094598424,   20597262,  427560582,\n",
        "          996262307, 2412262531, 2928965055, 3666884608, 1150843134,\n",
        "          786199281, 2772772588, 3115093957, 2652822663, 2888437559,\n",
        "          324273709, 2826750097, 1725101694, 2181150584,  837772063,\n",
        "         2124209796, 4175535188,  986466126, 2169592993, 2182690202,\n",
        "         2546946793,  518323818,  275208853, 4273509563,  901348994,\n",
        "         2936468183,  324375503, 2225748395, 3834594209, 2960443886,\n",
        "         1129742125, 2803574947, 3372916677, 3534290917], dtype=uint32), 150, 0, 0.0))"
       ]
      }
     ],
     "prompt_number": 44
    },
    {
     "cell_type": "code",
     "collapsed": false,
     "input": [
      "trace = sampler.chain[:, :, :].reshape(-1, ndim).T\n",
      "print(trace.shape)"
     ],
     "language": "python",
     "metadata": {},
     "outputs": [
      {
       "ename": "NameError",
       "evalue": "name 'sampler' is not defined",
       "output_type": "pyerr",
       "traceback": [
        "\u001b[1;31m---------------------------------------------------------------------------\u001b[0m\n\u001b[1;31mNameError\u001b[0m                                 Traceback (most recent call last)",
        "\u001b[1;32m<ipython-input-2-411a6ac16076>\u001b[0m in \u001b[0;36m<module>\u001b[1;34m()\u001b[0m\n\u001b[1;32m----> 1\u001b[1;33m \u001b[0mtrace\u001b[0m \u001b[1;33m=\u001b[0m \u001b[0msampler\u001b[0m\u001b[1;33m.\u001b[0m\u001b[0mchain\u001b[0m\u001b[1;33m[\u001b[0m\u001b[1;33m:\u001b[0m\u001b[1;33m,\u001b[0m \u001b[1;33m:\u001b[0m\u001b[1;33m,\u001b[0m \u001b[1;33m:\u001b[0m\u001b[1;33m]\u001b[0m\u001b[1;33m.\u001b[0m\u001b[0mreshape\u001b[0m\u001b[1;33m(\u001b[0m\u001b[1;33m-\u001b[0m\u001b[1;36m1\u001b[0m\u001b[1;33m,\u001b[0m \u001b[0mndim\u001b[0m\u001b[1;33m)\u001b[0m\u001b[1;33m.\u001b[0m\u001b[0mT\u001b[0m\u001b[1;33m\u001b[0m\u001b[0m\n\u001b[0m\u001b[0;32m      2\u001b[0m \u001b[1;32mprint\u001b[0m\u001b[1;33m(\u001b[0m\u001b[0mtrace\u001b[0m\u001b[1;33m.\u001b[0m\u001b[0mshape\u001b[0m\u001b[1;33m)\u001b[0m\u001b[1;33m\u001b[0m\u001b[0m\n",
        "\u001b[1;31mNameError\u001b[0m: name 'sampler' is not defined"
       ]
      }
     ],
     "prompt_number": 2
    },
    {
     "cell_type": "code",
     "collapsed": false,
     "input": [
      "print(trace[0, :])"
     ],
     "language": "python",
     "metadata": {},
     "outputs": [
      {
       "output_type": "stream",
       "stream": "stdout",
       "text": [
        "[ 1.0564805   1.04435756  1.00089867  0.99755332  0.98968473  1.06104059\n",
        "  1.04404907  1.04404907  1.05353866  1.03745284  1.08165592  1.08165592\n",
        "  1.04996564  1.04996564  1.07267797  1.0319287   1.0319287   1.0319287\n",
        "  1.0473554   1.0473554   1.07645781  1.07645781  1.07645781  1.07645781\n",
        "  1.07645781  1.06532721  1.06532721  1.07051299  1.07051299  1.02767383\n",
        "  1.04724899  1.03017558  1.03017558  1.02981975  1.02981975  0.97330332\n",
        "  0.97330332  0.86713976  0.86713976  0.80521753  1.03896687  1.03896687\n",
        "  1.03896687  1.0224814   1.0224814   1.05381308  1.06441324  1.06441324\n",
        "  1.06441324  1.06441324  1.0513157   1.06063335  1.06063335  1.06063335\n",
        "  1.06063335  1.10464579  1.10464579  1.09841763  1.10171128  1.11845474\n",
        "  1.00890518  1.00890518  1.00890518  1.01958094  1.01676285  0.99869863\n",
        "  0.99869863  0.99869863  0.99995868  0.99962875  1.05475165  1.05456383\n",
        "  1.05456383  1.05456383  1.06714509  1.01525615  1.01921024  1.01921024\n",
        "  1.01921024  1.01921024  0.99798527  0.99798527  0.99798527  0.9912021\n",
        "  0.9912021   1.00949807  0.9913656   0.9913656   0.9913656   0.9913656\n",
        "  1.07722306  1.0604345   1.05559468  1.05559468  1.05559468  0.96012139\n",
        "  0.96012139  0.93899586  0.93899586  0.82611167  1.02921091  1.02921091\n",
        "  1.02921091  1.02921091  1.02921091  1.05417127  1.05417127  1.05417127\n",
        "  1.05417127  1.05487981  1.01955735  1.05057879  1.07130164  1.07130164\n",
        "  1.07130164  1.03626477  1.03558678  1.03558678  1.03557566  1.03672557\n",
        "  1.00595392  1.00595392  1.00595392  1.00595392  1.00918953  1.05705066\n",
        "  1.05705066  1.05705066  1.00226278  1.00072283  1.08245759  1.08245759\n",
        "  1.01720992  1.01720992  1.00613177  1.08149876  1.09525768  1.09525768\n",
        "  1.09525768  1.09525768  1.00927528  0.98007294  0.95178281  0.95178281\n",
        "  0.95178281  1.08271328  1.08271328  1.08271328  1.08271328  1.08271328\n",
        "  1.08874327  1.08874327  1.08874327  1.08476739  1.00448077  1.07183575\n",
        "  1.07261549  1.07261549  1.07261549  1.07261549  1.05258185  1.05602801\n",
        "  1.05602801  1.05602801  1.05602801  1.07691927  1.07691927  1.08662019\n",
        "  1.08360052  1.0598914   1.06558646  1.06558646  1.06558646  1.09078077\n",
        "  1.09950426  1.06414729  1.06414729  1.06586334  1.06586334  1.06586334\n",
        "  1.06015649  1.06175353  1.05420873  1.05420873  1.05157914  0.98782741\n",
        "  0.97353135  0.92781587  0.92781587  0.92781587  0.98781763  0.98072235\n",
        "  1.02856578  1.02856578  1.03129189  1.02033967  1.02714325  1.02714325\n",
        "  1.02714325  1.02714325  1.06986207  1.06986207  1.06986207  1.06986207\n",
        "  1.07014105  1.02807484  1.01706489  0.99818572  0.99818572  0.98893487\n",
        "  1.007116    1.007116    1.007116    1.00703991  1.00703991  1.01494568\n",
        "  1.00908811  0.96448195  0.96448195  0.96448195  1.07161948  1.07161948\n",
        "  1.08160267  1.07789738  1.07789738  1.09269086  1.04647959  1.0447551\n",
        "  1.03199055  1.04379301  1.0511912   1.0511912   1.0511912   1.06172045\n",
        "  1.06262016  1.02438642  1.02438642  1.02438642  1.02438642  1.02438642\n",
        "  1.01136555  1.01136555  0.98082884  0.98082884  0.97964955  1.02345645\n",
        "  1.02345645  1.02345645  1.02345645  1.03481918  1.02634915  1.01728519\n",
        "  0.98412388  0.95455128  0.93100582  0.99248154  0.98438346  1.0067045\n",
        "  1.0067045   1.00468978  1.00265877  0.94805606  0.85506702  0.85506702\n",
        "  0.81260212  1.00962181  1.00962181  1.00962181  1.02526035  1.00984194\n",
        "  1.05556441  1.05556441  1.05093025  1.05093025  1.05085689  1.08799144\n",
        "  1.11126196  1.11126196  1.11126196  1.17273407  1.09872239  1.09872239\n",
        "  1.09872239  1.09954925  1.09954925  1.06254859  1.01986394  1.01005201\n",
        "  1.01005201  1.01005201  1.07538153  1.09406     1.09406     1.09910269\n",
        "  1.14897905  1.0673989   1.0673989   1.0673989   1.0673989   1.09290072\n",
        "  1.04620824  1.04620824  1.04620824  1.04620824  1.04257688  1.08722451\n",
        "  1.08722451  1.08722451  1.08617198  1.08617198  1.04959753  1.04959753\n",
        "  1.04959753  1.04959753  1.04959753  1.01050755  1.01050755  1.01050755\n",
        "  1.01050755  1.01442901  1.06844778  1.06844778  1.08079185  1.14007549\n",
        "  1.18148146  1.08283372  1.08283372  1.08041417  1.08041417  1.08289159\n",
        "  1.04948655  1.04948655  1.04948655  1.04948655  1.04948655  1.05876098\n",
        "  1.05876098  1.03663816  1.01732936  1.01732936  1.08218707  1.07921524\n",
        "  1.07921524  1.07921524  1.0929904   1.04791484  1.07829338  1.07829338\n",
        "  1.07829338  1.07829338  1.09197348  1.09201823  1.09499032  1.07040568\n",
        "  1.07681814  1.08728633  1.08728633  1.08608825  1.08608825  1.08608825\n",
        "  1.07766291  1.07457345  1.07123337  1.07123337  1.07342042  0.97393919\n",
        "  0.97393919  0.97393919  0.97393919  0.97393919  1.02292389  1.00723405\n",
        "  1.00723405  1.0016542   1.0016542   1.0609513   1.06006312  1.06006312\n",
        "  1.04799023  1.04752093  1.04557716  1.04557716  1.03157163  0.99885963\n",
        "  0.97006994  1.01392097  1.01392097  1.01392097  1.01390173  1.01390173\n",
        "  1.08915148  1.08915148  1.10475729  1.10475729  1.10475729  1.04526078\n",
        "  1.04526078  1.03726884  1.03726884  1.03726884  1.09381835  1.09044056\n",
        "  1.09044056  1.08080087  1.08080087  1.07399794  1.07399794  1.04980921\n",
        "  1.04888117  1.06366908  1.04045268  1.02113161  1.01659     1.01875502\n",
        "  1.01994108  1.02699427  1.01989153  1.01989153  1.01989153  1.01989153\n",
        "  1.02267903  1.02267903  1.02267903  1.02267903  0.99751618  1.05395249\n",
        "  1.05395249  1.05387063  1.07714018  1.07714018  1.05705756  1.08278368\n",
        "  1.08278368  1.08543758  1.08543758  1.06212061  1.0675925   1.05791507\n",
        "  1.06937911  1.06937911  1.04177456  1.04177456  1.04177456  1.02462184\n",
        "  1.0527767   1.07809972  1.05073262  1.05073262  1.04376102  1.02936534\n",
        "  1.01051791  1.01051791  1.01051791  1.0094852   1.0094852   1.00371968\n",
        "  1.00371968  1.00052473  0.99556808  0.99993802  1.08811828  1.08811828\n",
        "  1.08811828  1.08811828  1.08811828  1.04537737  1.04381845  1.04381845\n",
        "  1.03072333  1.0294306   1.00031941  0.98948483  0.97804008  0.97804008\n",
        "  0.95265276  1.01363363  1.00617475  1.00617475  1.00617475  1.00617475\n",
        "  1.06565336  1.07471127  1.07746274  1.08475146  1.08656301  1.0353759\n",
        "  1.02770125  1.02770125  1.02770125  1.02770125  1.06409969  1.06409969\n",
        "  1.06409969  1.06409969  1.05057074  0.96638434  0.96638434  0.96638434\n",
        "  0.95448225  1.00293571]\n"
       ]
      }
     ],
     "prompt_number": 54
    },
    {
     "cell_type": "code",
     "collapsed": false,
     "input": [
      "import numpy as np\n",
      "from astropy.io import ascii\n",
      "from astropy.table import Table\n",
      "\n",
      "\n",
      "x = np.array(([1, 2, 3, 4, 5], [2, 4, 6, 8, 10]))\n",
      "print(x.shape)\n",
      "data = Table(x, names=['a', 'b', 'c', 'd', 'e'])\n",
      "ascii.write(data, '/pool/asha0/SCIENCE/D3SB/temp.txt')\n"
     ],
     "language": "python",
     "metadata": {},
     "outputs": [
      {
       "output_type": "stream",
       "stream": "stdout",
       "text": [
        "(2, 5)\n"
       ]
      }
     ],
     "prompt_number": 10
    },
    {
     "cell_type": "code",
     "collapsed": false,
     "input": [],
     "language": "python",
     "metadata": {},
     "outputs": []
    }
   ],
   "metadata": {}
  }
 ]
}