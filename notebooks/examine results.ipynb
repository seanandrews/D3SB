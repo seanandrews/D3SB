{
 "metadata": {
  "name": "",
  "signature": "sha256:9f299e43e77ad5bb3ec6e85660caf1fcee3a27316ff9c1dc82a3471122300e50"
 },
 "nbformat": 3,
 "nbformat_minor": 0,
 "worksheets": [
  {
   "cells": [
    {
     "cell_type": "code",
     "collapsed": false,
     "input": [
      "import numpy as np\n",
      "import matplotlib.pyplot as plt\n",
      "from astropy.io import ascii\n",
      "%matplotlib inline\n",
      "\n",
      "#trace = ascii.read(\"trace_p.txt\")\n",
      "\n",
      "trace = np.loadtxt(\"trace_fri.txt\", delimiter=' ', skiprows=1)\n",
      "tr = trace[35000:, :]\n",
      "print(tr.shape)\n",
      "\n",
      "losig = np.percentile(tr, 2.5, axis=0)\n",
      "hisig = np.percentile(tr, 97.5, axis=0)\n",
      "\n",
      "nbins = 15\n",
      "dr = 0.20\n",
      "b = dr+dr*np.arange(nbins)\n",
      "\n",
      "plt.axis([10, 500, 1e-9, 1])\n",
      "plt.xscale('log')\n",
      "plt.yscale('log')\n",
      "\n",
      "bb = np.logspace(-1, 3, num=100)\n",
      "nrm, rc, gam = 1., 35., 1.\n",
      "ff = nrm*(bb/rc)**(-gam)*np.exp(-(bb/rc)**(2-gam))\n",
      "\n",
      "sig = 0.5*140.\n",
      "gnm = 0.1/(2.*np.pi*sig**2)\n",
      "gg = nrm*np.exp(-0.5*(bb/sig)**2)\n",
      "#print(gg)\n",
      "\n",
      "plt.plot(b*140., losig, 'o', b*140., hisig, 'o', bb, ff, '-', bb, gg, '--')\n",
      "#plt.plot(bb, gg)\n",
      "\n",
      "\n",
      "#tr0 = np.array(trace['col0'])\n",
      "#mtr0 = np.mean(tr0)\n",
      "#print(mtr0)\n",
      "\n",
      "#tr1 = np.array(trace[1])\n",
      "#mtr1 = np.mean(tr1)\n",
      "#print(mtr1)\n",
      "\n",
      "#for (i in range(15)):\n",
      "#    losig[i] = np.percentile(np.array(trace[i]))\n",
      "#print(tr.shape)\n",
      "\n",
      "#losig = np.percentile(trace[:], 16, axis=0)\n",
      "#print(losig)"
     ],
     "language": "python",
     "metadata": {},
     "outputs": [
      {
       "output_type": "stream",
       "stream": "stdout",
       "text": [
        "(15000, 15)\n"
       ]
      },
      {
       "metadata": {},
       "output_type": "pyout",
       "prompt_number": 1,
       "text": [
        "[<matplotlib.lines.Line2D at 0x7f03716e1250>,\n",
        " <matplotlib.lines.Line2D at 0x7f0371483690>,\n",
        " <matplotlib.lines.Line2D at 0x7f0371483a50>,\n",
        " <matplotlib.lines.Line2D at 0x7f0371483e50>]"
       ]
      },
      {
       "metadata": {},
       "output_type": "display_data",
       "png": "[encoded data removed]",
       "text": [
        "<matplotlib.figure.Figure at 0x7f039d02add0>"
       ]
      }
     ],
     "prompt_number": 1
    },
    {
     "cell_type": "code",
     "collapsed": false,
     "input": [
      "w = [-1e-109, 1, 2, 3, -1e-109, 7, 9, 11]\n",
      "\n",
      "ndet = w - np.abs(w)\n",
      "print(ndet)\n",
      "if (np.sum(ndet) < 0):\n",
      "    print(\"ruh-roh\")\n",
      "    \n",
      "    "
     ],
     "language": "python",
     "metadata": {},
     "outputs": [
      {
       "output_type": "stream",
       "stream": "stdout",
       "text": [
        "[ -2.00000000e-109   0.00000000e+000   0.00000000e+000   0.00000000e+000\n",
        "  -2.00000000e-109   0.00000000e+000   0.00000000e+000   0.00000000e+000]\n",
        "ruh-roh\n"
       ]
      }
     ],
     "prompt_number": 32
    },
    {
     "cell_type": "code",
     "collapsed": false,
     "input": [],
     "language": "python",
     "metadata": {},
     "outputs": []
    }
   ],
   "metadata": {}
  }
 ]
}